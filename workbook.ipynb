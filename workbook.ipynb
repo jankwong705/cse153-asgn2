{
 "cells": [
  {
   "cell_type": "code",
   "execution_count": 8,
   "id": "b64097d6",
   "metadata": {},
   "outputs": [],
   "source": [
    "import random\n",
    "from glob import glob\n",
    "from collections import defaultdict\n",
    "\n",
    "import numpy as np\n",
    "from numpy.random import choice\n",
    "\n",
    "from symusic import Score\n",
    "from miditok import REMI, TokenizerConfig\n",
    "from midiutil import MIDIFile"
   ]
  },
  {
   "cell_type": "markdown",
   "id": "c0467248",
   "metadata": {},
   "source": [
    "@inproceedings{pop909-ismir2020,\n",
    "    author = {Ziyu Wang* and Ke Chen* and Junyan Jiang and Yiyi Zhang and Maoran Xu and Shuqi Dai and Guxian Bin and Gus Xia},\n",
    "    title = {POP909: A Pop-song Dataset for Music Arrangement Generation},\n",
    "    booktitle = {Proceedings of 21st International Conference on Music Information Retrieval, {ISMIR}},\n",
    "    year = {2020}\n",
    "}"
   ]
  },
  {
   "cell_type": "code",
   "execution_count": 9,
   "id": "a476df76",
   "metadata": {},
   "outputs": [
    {
     "name": "stdout",
     "output_type": "stream",
     "text": [
      "\n",
      "\n",
      "\n"
     ]
    }
   ],
   "source": [
    "FILE_PATH = \"\"\n",
    "\n",
    "config = TokenizerConfig(num_velocities=1, use_chords=False, use_programs=False)\n",
    "tokenizer = REMI(config)\n",
    "tokenizer.train(vocab_size=1000, files_paths=FILE_PATH)"
   ]
  },
  {
   "cell_type": "code",
   "execution_count": 10,
   "id": "15ffcc75",
   "metadata": {},
   "outputs": [],
   "source": [
    "def note_extraction(midi_file):\n",
    "    # Q1a: Your code goes here\n",
    "    midi = Score(midi_file)\n",
    "    tokens = tokenizer(midi)[0].tokens\n",
    "    all_pitches = filter(lambda s: \"Pitch\" in s, tokens)\n",
    "    pitch_list = list(map(lambda x: int(x[x.find(\"_\") + 1:]), all_pitches))\n",
    "    return pitch_list"
   ]
  },
  {
   "cell_type": "code",
   "execution_count": 11,
   "id": "20266f1c",
   "metadata": {},
   "outputs": [],
   "source": [
    "def note_frequency(midi_files):\n",
    "    # Q1b: Your code goes here\n",
    "    note_dict = defaultdict(int)\n",
    "    for midi_file in midi_files:\n",
    "        pitch_list = note_extraction(midi_file)\n",
    "        for pitch in pitch_list:\n",
    "            note_dict[pitch] += 1\n",
    "    return note_dict"
   ]
  },
  {
   "cell_type": "markdown",
   "id": "59bfc9aa",
   "metadata": {},
   "source": [
    "Calculate probabilities\n"
   ]
  },
  {
   "cell_type": "code",
   "execution_count": 12,
   "id": "40191d2b",
   "metadata": {},
   "outputs": [],
   "source": [
    "def note_unigram_probability(midi_files):\n",
    "    note_counts = note_frequency(midi_files)\n",
    "    unigramProbabilities = {}\n",
    "    \n",
    "    # Q2: Your code goes here\n",
    "    total_count = sum(note_counts.values())\n",
    "    for key in note_counts.keys():\n",
    "        unigramProbabilities[key] = note_counts[key] / total_count\n",
    "    \n",
    "    return unigramProbabilities"
   ]
  },
  {
   "cell_type": "code",
   "execution_count": 13,
   "id": "90e20717",
   "metadata": {},
   "outputs": [],
   "source": [
    "def note_bigram_probability(midi_files):\n",
    "    bigramTransitions = defaultdict(list)\n",
    "    bigramTransitionProbabilities = defaultdict(list)\n",
    "\n",
    "    # {62: {60: 3, 64: 4}, ....}\n",
    "    bigramCounts = defaultdict(lambda: defaultdict(int))\n",
    "\n",
    "    # Q3a: Your code goes here\n",
    "    for midi_file in midi_files:\n",
    "        pitch_list = note_extraction(midi_file)\n",
    "        for i in range(1, len(pitch_list)):\n",
    "            # Update count for next note \n",
    "            bigramCounts[pitch_list[i-1]][pitch_list[i]] += 1\n",
    "    \n",
    "    # (62, {60: 3, 64: 4})\n",
    "    for prev_note, next_notes in bigramCounts.items():\n",
    "        # 3 + 4 = 7\n",
    "        next_note_sum = sum(next_notes.values())\n",
    "        bigramTransitions[prev_note] = list(next_notes.keys())\n",
    "        bigramTransitionProbabilities[prev_note] = list([bigramCounts[prev_note][next_note] / next_note_sum for next_note in next_notes])\n",
    "\n",
    "    return bigramTransitions, bigramTransitionProbabilities"
   ]
  },
  {
   "cell_type": "code",
   "execution_count": 14,
   "id": "327a9fae",
   "metadata": {},
   "outputs": [],
   "source": [
    "def note_trigram_probability(midi_files):\n",
    "    trigramTransitions = defaultdict(list)\n",
    "    trigramTransitionProbabilities = defaultdict(list)\n",
    "    # {(60, 62): {64:1, 66:4}, ...}\n",
    "    trigramCounts = defaultdict(lambda: defaultdict(int))\n",
    "    \n",
    "    # Q5a: Your code goes here\n",
    "    for midi_file in midi_files:\n",
    "        pitch_list = note_extraction(midi_file)\n",
    "        for i in range(2, len(pitch_list)):\n",
    "            trigramCounts[(pitch_list[i-2], pitch_list[i-1])][pitch_list[i]] += 1\n",
    "\n",
    "    # ((60, 62), {64:1, 66:4})\n",
    "    for prev_notes, next_notes in trigramCounts.items():\n",
    "        next_note_sum = sum(next_notes.values())\n",
    "        trigramTransitions[prev_notes] = list(next_notes.keys())\n",
    "        trigramTransitionProbabilities[prev_notes] = list([trigramCounts[prev_notes][next_note] / next_note_sum for next_note in next_notes])\n",
    "\n",
    "    return trigramTransitions, trigramTransitionProbabilities"
   ]
  },
  {
   "cell_type": "markdown",
   "id": "b3ef926b",
   "metadata": {},
   "source": []
  },
  {
   "cell_type": "code",
   "execution_count": 15,
   "id": "a5ccc632",
   "metadata": {},
   "outputs": [],
   "source": [
    "def music_generate(length):\n",
    "    # Sample notes\n",
    "    unigramProbabilities = note_unigram_probability(midi_files)\n",
    "    bigramTransitions, bigramTransitionProbabilities = note_bigram_probability(midi_files)\n",
    "    trigramTransitions, trigramTransitionProbabilities = note_trigram_probability(midi_files)\n",
    "    \n",
    "    # Q10: Your code goes here ...\n",
    "    sampled_notes = []\n",
    "\n",
    "    # Sample first note\n",
    "    first_note = random.choices(\n",
    "        list(unigramProbabilities.keys()),\n",
    "        weights=list(unigramProbabilities.values()),\n",
    "        k=1\n",
    "    )[0]\n",
    "    \n",
    "    # Sample second note\n",
    "    second_note = random.choices(\n",
    "        list(bigramTransitions[first_note]),\n",
    "        weights=list(bigramTransitionProbabilities[first_note]),\n",
    "        k=1\n",
    "    )[0]\n",
    "\n",
    "    sampled_notes.append(first_note)\n",
    "    sampled_notes.append(second_note)\n",
    "\n",
    "    for i in range(length - 2):\n",
    "        prev_two_notes = (sampled_notes[-2], sampled_notes[-1])\n",
    "        sampled_note = random.choices(\n",
    "            list(trigramTransitions[prev_two_notes]),\n",
    "            weights=list(trigramTransitionProbabilities[prev_two_notes]),\n",
    "            k=1\n",
    "        )[0]\n",
    "        sampled_notes.append(sampled_note)\n",
    "    \n",
    "    # Sample beats\n",
    "    bigramBeatPosTransitions, bigramBeatPosTransitionProbabilities = beat_pos_bigram_probability(midi_files)\n",
    "    sampled_beats = []\n",
    "    # i = Note\n",
    "    i = 1\n",
    "    pos = 0\n",
    "    for i in range(length):\n",
    "        sampled_beat_length = random.choices(\n",
    "            list(bigramBeatPosTransitions[pos]),\n",
    "            weights=list(bigramBeatPosTransitionProbabilities[pos]),\n",
    "            k=1\n",
    "        )[0]\n",
    "        sampled_beats.append(sampled_beat_length / 8)\n",
    "        pos += sampled_beat_length\n",
    "        if pos >= 32:\n",
    "            pos = 0\n",
    "\n",
    "    # Save the generated music as a midi file\n",
    "    midi = MIDIFile(1) # Create a MIDI file that consists of 1 track\n",
    "    track = 0 # Set track number\n",
    "    time = 0 # Where is the event placed (at the beginning)\n",
    "    tempo = 120 # The tempo (beats per minute)\n",
    "    midi.addTempo(track, time, tempo) # Add tempo information\n",
    "\n",
    "    current_time = 0\n",
    "    for note, beat_length in zip(sampled_notes, sampled_beats):\n",
    "        midi.addNote(track, 0, note, current_time, beat_length, 100)\n",
    "        current_time += beat_length\n",
    "    \n",
    "    # Write MIDI file\n",
    "    with open(\"q10.mid\", \"wb\") as f:\n",
    "        midi.writeFile(f) \n"
   ]
  }
 ],
 "metadata": {
  "kernelspec": {
   "display_name": "Python 3",
   "language": "python",
   "name": "python3"
  },
  "language_info": {
   "codemirror_mode": {
    "name": "ipython",
    "version": 3
   },
   "file_extension": ".py",
   "mimetype": "text/x-python",
   "name": "python",
   "nbconvert_exporter": "python",
   "pygments_lexer": "ipython3",
   "version": "3.10.1"
  }
 },
 "nbformat": 4,
 "nbformat_minor": 5
}
